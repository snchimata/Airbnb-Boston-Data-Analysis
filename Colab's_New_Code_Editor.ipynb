{
  "nbformat": 4,
  "nbformat_minor": 0,
  "metadata": {
    "colab": {
      "name": "Colab's New Code Editor",
      "version": "0.3.2",
      "provenance": [],
      "collapsed_sections": [],
      "include_colab_link": true
    },
    "kernelspec": {
      "name": "python3",
      "display_name": "Python 3"
    },
    "accelerator": "GPU"
  },
  "cells": [
    {
      "cell_type": "markdown",
      "metadata": {
        "id": "view-in-github",
        "colab_type": "text"
      },
      "source": [
        "<a href=\"https://colab.research.google.com/github/snchimata/airbnb_boston_sentiment_analysis/blob/master/Colab's_New_Code_Editor.ipynb\" target=\"_parent\"><img src=\"https://colab.research.google.com/assets/colab-badge.svg\" alt=\"Open In Colab\"/></a>"
      ]
    },
    {
      "cell_type": "code",
      "metadata": {
        "id": "UJbXETzfVJJp",
        "colab_type": "code",
        "colab": {}
      },
      "source": [
        "import io\n",
        "import pandas as pd\n",
        "import matplotlib.pyplot as plt\n",
        "import seaborn as sns\n",
        "import plotly as plty\n",
        "%matplotlib inline\n",
        "import warnings\n",
        "from scipy.stats.stats import pearsonr\n",
        "calender = pd.read_csv(\"calendar.csv\") \n",
        "listings = pd.read_csv(\"listings.csv\") \n",
        "reviews = pd.read_csv(\"reviews.csv\") "
      ],
      "execution_count": 0,
      "outputs": []
    },
    {
      "cell_type": "code",
      "metadata": {
        "id": "CJsf3KAQBlSN",
        "colab_type": "code",
        "colab": {
          "base_uri": "https://localhost:8080/",
          "height": 89
        },
        "outputId": "67cb28af-035d-484a-96e8-10c9fa2bc36d"
      },
      "source": [
        "!pip install plotly --upgrade\n",
        "!pip install chart-studio  --upgrade"
      ],
      "execution_count": 2,
      "outputs": [
        {
          "output_type": "stream",
          "text": [
            "Requirement already up-to-date: plotly in /usr/local/lib/python3.6/dist-packages (4.1.0)\n",
            "Requirement already satisfied, skipping upgrade: six in /usr/local/lib/python3.6/dist-packages (from plotly) (1.12.0)\n",
            "Requirement already satisfied, skipping upgrade: retrying>=1.3.3 in /usr/local/lib/python3.6/dist-packages (from plotly) (1.3.3)\n"
          ],
          "name": "stdout"
        }
      ]
    },
    {
      "cell_type": "code",
      "metadata": {
        "id": "H45hyiGmqMUJ",
        "colab_type": "code",
        "colab": {}
      },
      "source": [
        "reviews = reviews[:100].dropna()"
      ],
      "execution_count": 0,
      "outputs": []
    },
    {
      "cell_type": "code",
      "metadata": {
        "id": "BAdPMjJwy13r",
        "colab_type": "code",
        "colab": {
          "base_uri": "https://localhost:8080/",
          "height": 289
        },
        "outputId": "e79eb8d8-acde-46ba-9c0e-803bd81e344d"
      },
      "source": [
        "reviews.head()"
      ],
      "execution_count": 4,
      "outputs": [
        {
          "output_type": "execute_result",
          "data": {
            "text/html": [
              "<div>\n",
              "<style scoped>\n",
              "    .dataframe tbody tr th:only-of-type {\n",
              "        vertical-align: middle;\n",
              "    }\n",
              "\n",
              "    .dataframe tbody tr th {\n",
              "        vertical-align: top;\n",
              "    }\n",
              "\n",
              "    .dataframe thead th {\n",
              "        text-align: right;\n",
              "    }\n",
              "</style>\n",
              "<table border=\"1\" class=\"dataframe\">\n",
              "  <thead>\n",
              "    <tr style=\"text-align: right;\">\n",
              "      <th></th>\n",
              "      <th>listing_id</th>\n",
              "      <th>id</th>\n",
              "      <th>date</th>\n",
              "      <th>reviewer_id</th>\n",
              "      <th>reviewer_name</th>\n",
              "      <th>comments</th>\n",
              "    </tr>\n",
              "  </thead>\n",
              "  <tbody>\n",
              "    <tr>\n",
              "      <th>0</th>\n",
              "      <td>1178162</td>\n",
              "      <td>4724140</td>\n",
              "      <td>2013-05-21</td>\n",
              "      <td>4298113</td>\n",
              "      <td>Olivier</td>\n",
              "      <td>My stay at islam's place was really cool! Good...</td>\n",
              "    </tr>\n",
              "    <tr>\n",
              "      <th>1</th>\n",
              "      <td>1178162</td>\n",
              "      <td>4869189</td>\n",
              "      <td>2013-05-29</td>\n",
              "      <td>6452964</td>\n",
              "      <td>Charlotte</td>\n",
              "      <td>Great location for both airport and city - gre...</td>\n",
              "    </tr>\n",
              "    <tr>\n",
              "      <th>2</th>\n",
              "      <td>1178162</td>\n",
              "      <td>5003196</td>\n",
              "      <td>2013-06-06</td>\n",
              "      <td>6449554</td>\n",
              "      <td>Sebastian</td>\n",
              "      <td>We really enjoyed our stay at Islams house. Fr...</td>\n",
              "    </tr>\n",
              "    <tr>\n",
              "      <th>3</th>\n",
              "      <td>1178162</td>\n",
              "      <td>5150351</td>\n",
              "      <td>2013-06-15</td>\n",
              "      <td>2215611</td>\n",
              "      <td>Marine</td>\n",
              "      <td>The room was nice and clean and so were the co...</td>\n",
              "    </tr>\n",
              "    <tr>\n",
              "      <th>4</th>\n",
              "      <td>1178162</td>\n",
              "      <td>5171140</td>\n",
              "      <td>2013-06-16</td>\n",
              "      <td>6848427</td>\n",
              "      <td>Andrew</td>\n",
              "      <td>Great location. Just 5 mins walk from the Airp...</td>\n",
              "    </tr>\n",
              "  </tbody>\n",
              "</table>\n",
              "</div>"
            ],
            "text/plain": [
              "   listing_id  ...                                           comments\n",
              "0     1178162  ...  My stay at islam's place was really cool! Good...\n",
              "1     1178162  ...  Great location for both airport and city - gre...\n",
              "2     1178162  ...  We really enjoyed our stay at Islams house. Fr...\n",
              "3     1178162  ...  The room was nice and clean and so were the co...\n",
              "4     1178162  ...  Great location. Just 5 mins walk from the Airp...\n",
              "\n",
              "[5 rows x 6 columns]"
            ]
          },
          "metadata": {
            "tags": []
          },
          "execution_count": 4
        }
      ]
    },
    {
      "cell_type": "code",
      "metadata": {
        "id": "2VqLWz6LzqMz",
        "colab_type": "code",
        "colab": {
          "base_uri": "https://localhost:8080/",
          "height": 141
        },
        "outputId": "3b939954-01f9-47a7-981b-e158b269b7b8"
      },
      "source": [
        "import nltk\n",
        "nltk.download('vader_lexicon')\n",
        "from nltk.sentiment.vader import SentimentIntensityAnalyzer\n",
        "sid = SentimentIntensityAnalyzer()\n",
        "sentiment = reviews['comments'].apply(lambda x : sid.polarity_scores(x))\n",
        "reviews=pd.concat([reviews,sentiment.apply(pd.Series)],1)"
      ],
      "execution_count": 5,
      "outputs": [
        {
          "output_type": "stream",
          "text": [
            "[nltk_data] Downloading package vader_lexicon to /root/nltk_data...\n",
            "[nltk_data]   Package vader_lexicon is already up-to-date!\n"
          ],
          "name": "stdout"
        },
        {
          "output_type": "stream",
          "text": [
            "/usr/local/lib/python3.6/dist-packages/nltk/twitter/__init__.py:20: UserWarning:\n",
            "\n",
            "The twython library has not been installed. Some functionality from the twitter package will not be available.\n",
            "\n"
          ],
          "name": "stderr"
        }
      ]
    },
    {
      "cell_type": "code",
      "metadata": {
        "id": "X7u9CSiO2fSF",
        "colab_type": "code",
        "colab": {
          "base_uri": "https://localhost:8080/",
          "height": 375
        },
        "outputId": "e74f7139-bd2e-4a63-d385-35b664615544"
      },
      "source": [
        "reviews.head()"
      ],
      "execution_count": 6,
      "outputs": [
        {
          "output_type": "execute_result",
          "data": {
            "text/html": [
              "<div>\n",
              "<style scoped>\n",
              "    .dataframe tbody tr th:only-of-type {\n",
              "        vertical-align: middle;\n",
              "    }\n",
              "\n",
              "    .dataframe tbody tr th {\n",
              "        vertical-align: top;\n",
              "    }\n",
              "\n",
              "    .dataframe thead th {\n",
              "        text-align: right;\n",
              "    }\n",
              "</style>\n",
              "<table border=\"1\" class=\"dataframe\">\n",
              "  <thead>\n",
              "    <tr style=\"text-align: right;\">\n",
              "      <th></th>\n",
              "      <th>listing_id</th>\n",
              "      <th>id</th>\n",
              "      <th>date</th>\n",
              "      <th>reviewer_id</th>\n",
              "      <th>reviewer_name</th>\n",
              "      <th>comments</th>\n",
              "      <th>neg</th>\n",
              "      <th>neu</th>\n",
              "      <th>pos</th>\n",
              "      <th>compound</th>\n",
              "    </tr>\n",
              "  </thead>\n",
              "  <tbody>\n",
              "    <tr>\n",
              "      <th>0</th>\n",
              "      <td>1178162</td>\n",
              "      <td>4724140</td>\n",
              "      <td>2013-05-21</td>\n",
              "      <td>4298113</td>\n",
              "      <td>Olivier</td>\n",
              "      <td>My stay at islam's place was really cool! Good...</td>\n",
              "      <td>0.0</td>\n",
              "      <td>0.648</td>\n",
              "      <td>0.352</td>\n",
              "      <td>0.9626</td>\n",
              "    </tr>\n",
              "    <tr>\n",
              "      <th>1</th>\n",
              "      <td>1178162</td>\n",
              "      <td>4869189</td>\n",
              "      <td>2013-05-29</td>\n",
              "      <td>6452964</td>\n",
              "      <td>Charlotte</td>\n",
              "      <td>Great location for both airport and city - gre...</td>\n",
              "      <td>0.0</td>\n",
              "      <td>0.639</td>\n",
              "      <td>0.361</td>\n",
              "      <td>0.9061</td>\n",
              "    </tr>\n",
              "    <tr>\n",
              "      <th>2</th>\n",
              "      <td>1178162</td>\n",
              "      <td>5003196</td>\n",
              "      <td>2013-06-06</td>\n",
              "      <td>6449554</td>\n",
              "      <td>Sebastian</td>\n",
              "      <td>We really enjoyed our stay at Islams house. Fr...</td>\n",
              "      <td>0.0</td>\n",
              "      <td>0.767</td>\n",
              "      <td>0.233</td>\n",
              "      <td>0.9663</td>\n",
              "    </tr>\n",
              "    <tr>\n",
              "      <th>3</th>\n",
              "      <td>1178162</td>\n",
              "      <td>5150351</td>\n",
              "      <td>2013-06-15</td>\n",
              "      <td>2215611</td>\n",
              "      <td>Marine</td>\n",
              "      <td>The room was nice and clean and so were the co...</td>\n",
              "      <td>0.0</td>\n",
              "      <td>0.673</td>\n",
              "      <td>0.327</td>\n",
              "      <td>0.9267</td>\n",
              "    </tr>\n",
              "    <tr>\n",
              "      <th>4</th>\n",
              "      <td>1178162</td>\n",
              "      <td>5171140</td>\n",
              "      <td>2013-06-16</td>\n",
              "      <td>6848427</td>\n",
              "      <td>Andrew</td>\n",
              "      <td>Great location. Just 5 mins walk from the Airp...</td>\n",
              "      <td>0.0</td>\n",
              "      <td>0.637</td>\n",
              "      <td>0.363</td>\n",
              "      <td>0.8658</td>\n",
              "    </tr>\n",
              "  </tbody>\n",
              "</table>\n",
              "</div>"
            ],
            "text/plain": [
              "   listing_id       id        date  reviewer_id  ...  neg    neu    pos  compound\n",
              "0     1178162  4724140  2013-05-21      4298113  ...  0.0  0.648  0.352    0.9626\n",
              "1     1178162  4869189  2013-05-29      6452964  ...  0.0  0.639  0.361    0.9061\n",
              "2     1178162  5003196  2013-06-06      6449554  ...  0.0  0.767  0.233    0.9663\n",
              "3     1178162  5150351  2013-06-15      2215611  ...  0.0  0.673  0.327    0.9267\n",
              "4     1178162  5171140  2013-06-16      6848427  ...  0.0  0.637  0.363    0.8658\n",
              "\n",
              "[5 rows x 10 columns]"
            ]
          },
          "metadata": {
            "tags": []
          },
          "execution_count": 6
        }
      ]
    },
    {
      "cell_type": "code",
      "metadata": {
        "id": "CjtFcv0bGa2u",
        "colab_type": "code",
        "colab": {}
      },
      "source": [
        ""
      ],
      "execution_count": 0,
      "outputs": []
    }
  ]
}